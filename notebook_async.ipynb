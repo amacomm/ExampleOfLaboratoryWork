{
 "cells": [
  {
   "cell_type": "code",
   "execution_count": null,
   "metadata": {},
   "outputs": [
    {
     "data": {
      "text/plain": [
       "<module 'services' from 'c:\\\\Users\\\\nikita\\\\Documents\\\\Python\\\\ExampleOfLaboratoryWork\\\\services\\\\__init__.py'>"
      ]
     },
     "execution_count": 33,
     "metadata": {},
     "output_type": "execute_result"
    }
   ],
   "source": [
    "import simpcalc\n",
    "import services\n",
    "\n",
    "import numpy as np\n",
    "import matplotlib.pyplot as plt\n",
    "import logging\n",
    "import logging.config\n",
    "import json"
   ]
  },
  {
   "cell_type": "code",
   "execution_count": 34,
   "metadata": {},
   "outputs": [],
   "source": [
    "config = None\n",
    "with open('config/logger_config.json', 'r') as file:\n",
    "    config = json.load(file)\n",
    "logging.config.dictConfig(config)"
   ]
  },
  {
   "cell_type": "code",
   "execution_count": 35,
   "metadata": {},
   "outputs": [],
   "source": [
    "calculator = simpcalc.Calculator()\n",
    "service_1 = services.ServiceAsync(calculator)\n",
    "service_2 = services.ServiceAsync(calculator)"
   ]
  },
  {
   "cell_type": "code",
   "execution_count": 36,
   "metadata": {},
   "outputs": [
    {
     "name": "stderr",
     "output_type": "stream",
     "text": [
      "2024-11-13 15:01:55,043 MainProcess services.service_async INFO     Service started\n",
      "2024-11-13 15:01:55,045 MainProcess simpcalc.simpcalc.calculator DEBUG    0 + 1\n"
     ]
    },
    {
     "name": "stderr",
     "output_type": "stream",
     "text": [
      "2024-11-13 15:01:56,054 MainProcess simpcalc.simpcalc.calculator DEBUG    1 + 1\n",
      "2024-11-13 15:01:57,059 MainProcess simpcalc.simpcalc.calculator DEBUG    2 + 1\n",
      "2024-11-13 15:01:58,064 MainProcess simpcalc.simpcalc.calculator DEBUG    3 + 1\n",
      "2024-11-13 15:01:59,081 MainProcess simpcalc.simpcalc.calculator DEBUG    4 + 1\n",
      "2024-11-13 15:02:00,102 MainProcess simpcalc.simpcalc.calculator DEBUG    5 + 1\n",
      "2024-11-13 15:02:01,122 MainProcess simpcalc.simpcalc.calculator DEBUG    6 + 1\n",
      "2024-11-13 15:02:02,140 MainProcess simpcalc.simpcalc.calculator DEBUG    7 + 1\n",
      "2024-11-13 15:02:03,150 MainProcess simpcalc.simpcalc.calculator DEBUG    8 + 1\n",
      "2024-11-13 15:02:04,164 MainProcess simpcalc.simpcalc.calculator DEBUG    9 + 1\n"
     ]
    }
   ],
   "source": [
    "await service_1.start()"
   ]
  },
  {
   "cell_type": "code",
   "execution_count": 37,
   "metadata": {},
   "outputs": [
    {
     "name": "stderr",
     "output_type": "stream",
     "text": [
      "2024-11-13 15:01:56,785 MainProcess services.service_async INFO     Service started\n",
      "2024-11-13 15:01:56,787 MainProcess simpcalc.simpcalc.calculator DEBUG    0 + 1\n"
     ]
    },
    {
     "name": "stderr",
     "output_type": "stream",
     "text": [
      "2024-11-13 15:01:57,811 MainProcess simpcalc.simpcalc.calculator DEBUG    1 + 1\n",
      "2024-11-13 15:01:58,830 MainProcess simpcalc.simpcalc.calculator DEBUG    2 + 1\n",
      "2024-11-13 15:01:59,851 MainProcess simpcalc.simpcalc.calculator DEBUG    3 + 1\n",
      "2024-11-13 15:02:00,871 MainProcess simpcalc.simpcalc.calculator DEBUG    4 + 1\n",
      "2024-11-13 15:02:01,888 MainProcess simpcalc.simpcalc.calculator DEBUG    5 + 1\n",
      "2024-11-13 15:02:02,902 MainProcess simpcalc.simpcalc.calculator DEBUG    6 + 1\n",
      "2024-11-13 15:02:03,914 MainProcess simpcalc.simpcalc.calculator DEBUG    7 + 1\n",
      "2024-11-13 15:02:04,930 MainProcess simpcalc.simpcalc.calculator DEBUG    8 + 1\n",
      "2024-11-13 15:02:05,948 MainProcess simpcalc.simpcalc.calculator DEBUG    9 + 1\n",
      "2024-11-13 15:02:06,962 MainProcess simpcalc.simpcalc.calculator DEBUG    10 + 1\n",
      "2024-11-13 15:02:07,974 MainProcess simpcalc.simpcalc.calculator DEBUG    11 + 1\n",
      "2024-11-13 15:02:08,992 MainProcess simpcalc.simpcalc.calculator DEBUG    12 + 1\n"
     ]
    }
   ],
   "source": [
    "await service_2.start()"
   ]
  },
  {
   "cell_type": "code",
   "execution_count": 38,
   "metadata": {},
   "outputs": [
    {
     "name": "stderr",
     "output_type": "stream",
     "text": [
      "2024-11-13 15:02:05,183 MainProcess services.service_async INFO     Service is terminated\n"
     ]
    }
   ],
   "source": [
    "await service_1.stop()"
   ]
  },
  {
   "cell_type": "code",
   "execution_count": 39,
   "metadata": {},
   "outputs": [
    {
     "name": "stderr",
     "output_type": "stream",
     "text": [
      "2024-11-13 15:02:09,998 MainProcess services.service_async INFO     Service is terminated\n"
     ]
    }
   ],
   "source": [
    "await service_2.stop()"
   ]
  },
  {
   "cell_type": "code",
   "execution_count": null,
   "metadata": {},
   "outputs": [],
   "source": []
  }
 ],
 "metadata": {
  "kernelspec": {
   "display_name": "Python 3",
   "language": "python",
   "name": "python3"
  },
  "language_info": {
   "codemirror_mode": {
    "name": "ipython",
    "version": 3
   },
   "file_extension": ".py",
   "mimetype": "text/x-python",
   "name": "python",
   "nbconvert_exporter": "python",
   "pygments_lexer": "ipython3",
   "version": "3.12.4"
  }
 },
 "nbformat": 4,
 "nbformat_minor": 2
}
