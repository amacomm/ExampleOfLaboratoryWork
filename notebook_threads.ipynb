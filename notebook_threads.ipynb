{
 "cells": [
  {
   "cell_type": "code",
   "execution_count": 15,
   "metadata": {},
   "outputs": [],
   "source": [
    "import simpcalc\n",
    "import services\n",
    "\n",
    "import numpy as np\n",
    "import matplotlib.pyplot as plt\n",
    "import logging\n",
    "import logging.config\n",
    "import json"
   ]
  },
  {
   "cell_type": "code",
   "execution_count": 16,
   "metadata": {},
   "outputs": [],
   "source": [
    "config = None\n",
    "with open('config/logger_config.json', 'r') as file:\n",
    "    config = json.load(file)\n",
    "logging.config.dictConfig(config)"
   ]
  },
  {
   "cell_type": "code",
   "execution_count": 17,
   "metadata": {},
   "outputs": [],
   "source": [
    "calculator = simpcalc.Calculator()\n",
    "service_1 = services.ServiceThreads(calculator)\n",
    "service_2 = services.ServiceThreads(calculator)"
   ]
  },
  {
   "cell_type": "code",
   "execution_count": 18,
   "metadata": {},
   "outputs": [
    {
     "name": "stderr",
     "output_type": "stream",
     "text": [
      "2024-11-13 15:03:52,954 MainProcess simpcalc.simpcalc.calculator DEBUG    0 + 1\n",
      "2024-11-13 15:03:52,957 MainProcess services.service_threads INFO     Service started\n"
     ]
    },
    {
     "name": "stderr",
     "output_type": "stream",
     "text": [
      "2024-11-13 15:03:53,960 MainProcess simpcalc.simpcalc.calculator DEBUG    1 + 1\n",
      "2024-11-13 15:03:54,964 MainProcess simpcalc.simpcalc.calculator DEBUG    2 + 1\n",
      "2024-11-13 15:03:55,967 MainProcess simpcalc.simpcalc.calculator DEBUG    3 + 1\n",
      "2024-11-13 15:03:56,971 MainProcess simpcalc.simpcalc.calculator DEBUG    4 + 1\n",
      "2024-11-13 15:03:57,975 MainProcess simpcalc.simpcalc.calculator DEBUG    5 + 1\n",
      "2024-11-13 15:03:58,978 MainProcess simpcalc.simpcalc.calculator DEBUG    6 + 1\n",
      "2024-11-13 15:03:59,982 MainProcess simpcalc.simpcalc.calculator DEBUG    7 + 1\n",
      "2024-11-13 15:04:00,985 MainProcess simpcalc.simpcalc.calculator DEBUG    8 + 1\n",
      "2024-11-13 15:04:01,989 MainProcess simpcalc.simpcalc.calculator DEBUG    9 + 1\n",
      "2024-11-13 15:04:02,994 MainProcess simpcalc.simpcalc.calculator DEBUG    10 + 1\n",
      "2024-11-13 15:04:03,997 MainProcess simpcalc.simpcalc.calculator DEBUG    11 + 1\n",
      "2024-11-13 15:04:05,001 MainProcess simpcalc.simpcalc.calculator DEBUG    12 + 1\n",
      "2024-11-13 15:04:06,005 MainProcess simpcalc.simpcalc.calculator DEBUG    13 + 1\n",
      "2024-11-13 15:04:07,010 MainProcess simpcalc.simpcalc.calculator DEBUG    14 + 1\n",
      "2024-11-13 15:04:08,014 MainProcess simpcalc.simpcalc.calculator DEBUG    15 + 1\n",
      "2024-11-13 15:04:09,018 MainProcess simpcalc.simpcalc.calculator DEBUG    16 + 1\n",
      "2024-11-13 15:04:10,024 MainProcess simpcalc.simpcalc.calculator DEBUG    17 + 1\n"
     ]
    }
   ],
   "source": [
    "service_1.start()"
   ]
  },
  {
   "cell_type": "code",
   "execution_count": null,
   "metadata": {},
   "outputs": [
    {
     "name": "stderr",
     "output_type": "stream",
     "text": [
      "2024-11-13 15:03:54,047 MainProcess simpcalc.simpcalc.calculator DEBUG    0 + 1\n",
      "2024-11-13 15:03:54,049 MainProcess services.service_threads INFO     Service started\n"
     ]
    },
    {
     "name": "stderr",
     "output_type": "stream",
     "text": [
      "2024-11-13 15:03:55,051 MainProcess simpcalc.simpcalc.calculator DEBUG    1 + 1\n",
      "2024-11-13 15:03:56,055 MainProcess simpcalc.simpcalc.calculator DEBUG    2 + 1\n",
      "2024-11-13 15:03:57,060 MainProcess simpcalc.simpcalc.calculator DEBUG    3 + 1\n",
      "2024-11-13 15:03:58,063 MainProcess simpcalc.simpcalc.calculator DEBUG    4 + 1\n",
      "2024-11-13 15:03:59,066 MainProcess simpcalc.simpcalc.calculator DEBUG    5 + 1\n",
      "2024-11-13 15:04:00,070 MainProcess simpcalc.simpcalc.calculator DEBUG    6 + 1\n",
      "2024-11-13 15:04:01,074 MainProcess simpcalc.simpcalc.calculator DEBUG    7 + 1\n",
      "2024-11-13 15:04:02,078 MainProcess simpcalc.simpcalc.calculator DEBUG    8 + 1\n",
      "2024-11-13 15:04:03,081 MainProcess simpcalc.simpcalc.calculator DEBUG    9 + 1\n",
      "2024-11-13 15:04:04,084 MainProcess simpcalc.simpcalc.calculator DEBUG    10 + 1\n"
     ]
    }
   ],
   "source": [
    "service_2.start()"
   ]
  },
  {
   "cell_type": "code",
   "execution_count": 22,
   "metadata": {},
   "outputs": [
    {
     "name": "stderr",
     "output_type": "stream",
     "text": [
      "2024-11-13 15:04:11,026 MainProcess services.service_threads INFO     Service is terminated\n"
     ]
    }
   ],
   "source": [
    "service_1.stop()"
   ]
  },
  {
   "cell_type": "code",
   "execution_count": 21,
   "metadata": {},
   "outputs": [
    {
     "name": "stderr",
     "output_type": "stream",
     "text": [
      "2024-11-13 15:04:05,088 MainProcess services.service_threads INFO     Service is terminated\n"
     ]
    }
   ],
   "source": [
    "service_2.stop()"
   ]
  },
  {
   "cell_type": "code",
   "execution_count": null,
   "metadata": {},
   "outputs": [],
   "source": []
  }
 ],
 "metadata": {
  "kernelspec": {
   "display_name": "Python 3",
   "language": "python",
   "name": "python3"
  },
  "language_info": {
   "codemirror_mode": {
    "name": "ipython",
    "version": 3
   },
   "file_extension": ".py",
   "mimetype": "text/x-python",
   "name": "python",
   "nbconvert_exporter": "python",
   "pygments_lexer": "ipython3",
   "version": "3.12.4"
  }
 },
 "nbformat": 4,
 "nbformat_minor": 2
}
